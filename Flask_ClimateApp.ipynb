{
 "cells": [
  {
   "cell_type": "code",
   "execution_count": 1,
   "metadata": {},
   "outputs": [],
   "source": [
    "import sqlalchemy\n",
    "from sqlalchemy import create_engine, inspect, func\n",
    "from sqlalchemy.orm import Session\n",
    "from sqlalchemy.ext.automap import automap_base\n",
    "Base= automap_base()\n",
    "import pandas as pd\n",
    "import datetime as dt\n",
    "from dateutil.relativedelta import relativedelta\n",
    "import numpy as np\n",
    "from flask import Flask, jsonify"
   ]
  },
  {
   "cell_type": "code",
   "execution_count": 2,
   "metadata": {},
   "outputs": [],
   "source": [
    "database_path='C:\\workspace\\Resources\\hawaii.sqlite'\n",
    "engine=create_engine(f'sqlite:///{database_path}')\n",
    "conn= engine.connect()\n",
    "Base.prepare(engine, reflect= True)\n",
    "Base.classes.keys()\n",
    "Measurement= Base.classes.measurement\n",
    "Station= Base.classes.station"
   ]
  },
  {
   "cell_type": "code",
   "execution_count": 5,
   "metadata": {},
   "outputs": [],
   "source": [
    "app= Flask(__name__)"
   ]
  },
  {
   "cell_type": "code",
   "execution_count": 6,
   "metadata": {},
   "outputs": [
    {
     "name": "stdout",
     "output_type": "stream",
     "text": [
      " * Serving Flask app \"__main__\" (lazy loading)\n",
      " * Environment: production\n",
      "   WARNING: This is a development server. Do not use it in a production deployment.\n",
      "   Use a production WSGI server instead.\n",
      " * Debug mode: on\n"
     ]
    },
    {
     "name": "stderr",
     "output_type": "stream",
     "text": [
      " * Restarting with stat\n"
     ]
    },
    {
     "ename": "SystemExit",
     "evalue": "1",
     "output_type": "error",
     "traceback": [
      "An exception has occurred, use %tb to see the full traceback.\n",
      "\u001b[1;31mSystemExit\u001b[0m\u001b[1;31m:\u001b[0m 1\n"
     ]
    },
    {
     "name": "stderr",
     "output_type": "stream",
     "text": [
      "c:\\users\\admin\\appdata\\local\\programs\\python\\python37-32\\lib\\site-packages\\IPython\\core\\interactiveshell.py:3334: UserWarning: To exit: use 'exit', 'quit', or Ctrl-D.\n",
      "  warn(\"To exit: use 'exit', 'quit', or Ctrl-D.\", stacklevel=1)\n"
     ]
    }
   ],
   "source": [
    "@app.route(\"/\")\n",
    "def home():\n",
    "    return (f\"Welcome to Surfs Up in Hawaii!<br/>\"\n",
    "            f\"Available route:<br/>\"\n",
    "            f\"/api/v1.0/precipitation for precipitation data for the last year in the database<br/>\"\n",
    "            f\"/api/v1.0/stations for list of stations from the dataset<br/>\"\n",
    "            f\"/api/v1.0/tobs for a list of temperature observations for the previous year for most active station<br>\"\n",
    "            f\"/api/v1.0/2016-01-01/2017-08-23\")\n",
    "\n",
    "@app.route(\"/api/v1.0/precipitation\")\n",
    "def precipitation():\n",
    "    session= Session(engine)\n",
    "    twelve_month_ago = dt.date(2017,8,23) - relativedelta(months=+12)\n",
    "    now= dt.date(2017,8,23)\n",
    "    prcp_12=session.query(Measurement.date, Measurement.prcp).\\\n",
    "        filter(Measurement.date <=now).\\\n",
    "        filter(Measurement.date >= twelve_month_ago).all()\n",
    "    session.close()\n",
    "    all_prcp=[]\n",
    "    for date, prcp in prcp_12:\n",
    "        prcp_dict={}\n",
    "        prcp_dict[\"date\"]=date\n",
    "        prcp_dict[\"prcp\"]=prcp\n",
    "        all_prcp.append(prcp_dict)\n",
    "    return jsonify(all_prcp)\n",
    "\n",
    "@app.route(\"/api/v1.0/stations\")\n",
    "def stations():\n",
    "    session= Session(engine)\n",
    "    station_list= session.query(Station.station).all()\n",
    "    session.close()\n",
    "    return jsonify(station_list)\n",
    "\n",
    "@app.route(\"/api/v1.0/tobs\")\n",
    "def temps():\n",
    "    session= Session(engine)\n",
    "    twelve_month_ago = dt.date(2017,8,23) - relativedelta(months=+12)\n",
    "    now= dt.date(2017,8,23)\n",
    "    station_counts=[Station.station, func.count(Measurement.tobs)]\n",
    "    most_active=session.query(*station_counts).\\\n",
    "                filter(Station.station==Measurement.station).\\\n",
    "                group_by(Measurement.station).\\\n",
    "                order_by(func.count(Measurement.tobs).desc()).\\\n",
    "                limit(1).all()\n",
    "    most_active_unzip = list(np.ravel(most_active))\n",
    "    temp_12=session.query(Measurement.date, Measurement.tobs).\\\n",
    "                filter(Station.station==Measurement.station).\\\n",
    "                filter(Station.station==most_active_unzip[0]).\\\n",
    "                filter(Measurement.date <=now).\\\n",
    "                filter(Measurement.date >= twelve_month_ago).all()\n",
    "    session.close()\n",
    "    return jsonify(temp_12)\n",
    "\n",
    "@app.route(\"/api/v1.0/<start_date>\")\n",
    "def start_date(start_date):\n",
    "    session=Session(engine)\n",
    "    now= dt.date(2017,8,23)\n",
    "    start_list=session.query(func.min(Measurement.tobs), func.avg(Measurement.tobs), func.max(Measurement.tobs)).\\\n",
    "                filter(Measurement.date >= start_date).filter(Measurement.date <= now).all()\n",
    "    session.close()\n",
    "    return jsonify(start_list)\n",
    "\n",
    "@app.route(\"/api/v1.0/<start_date>/<end_date>\")\n",
    "def start_end(start_date, end_date):\n",
    "    session= Session(engine)\n",
    "    data_list=session.query(func.min(Measurement.tobs), func.avg(Measurement.tobs), func.max(Measurement.tobs)).\\\n",
    "                filter(Measurement.date >= start_date).filter(Measurement.date <= end_date).all()\n",
    "    session.close()\n",
    "    return jsonify(data_list)\n",
    "\n",
    "if __name__==\"__main__\":\n",
    "    app.run(debug=True)"
   ]
  },
  {
   "cell_type": "code",
   "execution_count": null,
   "metadata": {},
   "outputs": [],
   "source": []
  }
 ],
 "metadata": {
  "kernelspec": {
   "display_name": "Python 3",
   "language": "python",
   "name": "python3"
  },
  "language_info": {
   "codemirror_mode": {
    "name": "ipython",
    "version": 3
   },
   "file_extension": ".py",
   "mimetype": "text/x-python",
   "name": "python",
   "nbconvert_exporter": "python",
   "pygments_lexer": "ipython3",
   "version": "3.7.4"
  }
 },
 "nbformat": 4,
 "nbformat_minor": 2
}
