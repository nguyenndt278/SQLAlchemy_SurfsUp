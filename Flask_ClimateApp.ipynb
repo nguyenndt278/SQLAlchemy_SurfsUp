{
 "cells": [
  {
   "cell_type": "code",
   "execution_count": 7,
   "metadata": {},
   "outputs": [],
   "source": [
    "import sqlalchemy\n",
    "from sqlalchemy import create_engine, inspect, func\n",
    "from sqlalchemy.orm import Session\n",
    "from sqlalchemy.ext.automap import automap_base\n",
    "Base= automap_base()\n",
    "import pandas as pd\n",
    "import datetime as dt\n",
    "from dateutil.relativedelta import relativedelta\n",
    "import numpy as np\n",
    "from flask import Flask, jsonify"
   ]
  },
  {
   "cell_type": "code",
   "execution_count": 8,
   "metadata": {},
   "outputs": [],
   "source": [
    "database_path='C:\\workspace\\Resources\\hawaii.sqlite'\n",
    "engine=create_engine(f'sqlite:///{database_path}')\n",
    "conn= engine.connect()\n",
    "Base.prepare(engine, reflect= True)\n",
    "Base.classes.keys()\n",
    "Measurement= Base.classes.measurement\n",
    "Station= Base.classes.station"
   ]
  },
  {
   "cell_type": "code",
   "execution_count": 14,
   "metadata": {},
   "outputs": [],
   "source": [
    "session=Session(engine)"
   ]
  },
  {
   "cell_type": "code",
   "execution_count": 18,
   "metadata": {},
   "outputs": [],
   "source": [
    "station_list= session.query(Station.station).all()\n",
    "station_counts=[Station.station, func.count(Measurement.tobs)]\n",
    "twelve_month_ago = dt.date(2017,8,23) - relativedelta(months=+12)\n",
    "now= dt.date(2017,8,23)\n",
    "most_active=session.query(*station_counts).\\\n",
    "    filter(Station.station==Measurement.station).\\\n",
    "    group_by(Measurement.station).\\\n",
    "    order_by(func.count(Measurement.tobs).desc()).\\\n",
    "    limit(1).all()\n",
    "most_active_unzip = list(np.ravel(most_active))\n",
    "temp_12=session.query(Measurement.date, Measurement.tobs).\\\n",
    "    filter(Station.station==Measurement.station).\\\n",
    "    filter(Station.station==most_active_unzip[0]).\\\n",
    "    filter(Measurement.date <=now).\\\n",
    "    filter(Measurement.date >= twelve_month_ago).all()"
   ]
  },
  {
   "cell_type": "code",
   "execution_count": 19,
   "metadata": {},
   "outputs": [],
   "source": [
    "app= Flask(__name__)"
   ]
  },
  {
   "cell_type": "code",
   "execution_count": 20,
   "metadata": {},
   "outputs": [
    {
     "name": "stdout",
     "output_type": "stream",
     "text": [
      " * Serving Flask app \"__main__\" (lazy loading)\n",
      " * Environment: production\n",
      "   WARNING: This is a development server. Do not use it in a production deployment.\n",
      "   Use a production WSGI server instead.\n",
      " * Debug mode: on\n"
     ]
    },
    {
     "name": "stderr",
     "output_type": "stream",
     "text": [
      " * Restarting with stat\n"
     ]
    },
    {
     "ename": "SystemExit",
     "evalue": "1",
     "output_type": "error",
     "traceback": [
      "An exception has occurred, use %tb to see the full traceback.\n",
      "\u001b[1;31mSystemExit\u001b[0m\u001b[1;31m:\u001b[0m 1\n"
     ]
    }
   ],
   "source": [
    "@app.route(\"/\")\n",
    "def home():\n",
    "    return (f\"Welcome to Surfs Up!<br/>\"\n",
    "            f\"Available route:<br/>\"\n",
    "            f\"/api/v1.0/precipitation<br/>\"\n",
    "            f\"/api/v1.0/stations<br/>\"\n",
    "            f\"/api/v1.0/tobs\")\n",
    "\n",
    "@app.route(\"/api/v1.0/precipitation\")\n",
    "def precipitation():\n",
    "    session= Session(engine)\n",
    "#     twelve_month_ago = dt.date(2017,8,23) - relativedelta(months=+12)\n",
    "#     now= dt.date(2017,8,23)\n",
    "    prcp_12=session.query(Measurement.date, Measurement.prcp).\\\n",
    "        filter(Measurement.date <=now).\\\n",
    "        filter(Measurement.date >= twelve_month_ago).all()\n",
    "    session.close()\n",
    "    all_prcp=[]\n",
    "    for date, prcp in prcp_12:\n",
    "        prcp_dict={}\n",
    "        prcp_dict[\"date\"]=date\n",
    "        prcp_dict[\"prcp\"]=prcp\n",
    "        all_prcp.append(prcp_dict)\n",
    "    return jsonify(all_prcp)\n",
    "\n",
    "@app.route(\"/api/v1.0/stations\")\n",
    "def stations():\n",
    "#     session= Session(engine)\n",
    "#     station_list= session.query(Station.station).all()\n",
    "#     session.close()\n",
    "    return jsonify(station_list)\n",
    "\n",
    "@app.route(\"/api/v1.0/tobs\")\n",
    "def temps():\n",
    "    return jsonify(temp_12)\n",
    "\n",
    "# # @app.route(\"/api/v1.0/<start>\")\n",
    "# # def start_date(start):\n",
    "\n",
    "# @app.route(\"/api/v1.0/<start>/<end>\")\n",
    "# def start_end():\n",
    "#     session= Session(engine)\n",
    "#     start=dt.date(start)\n",
    "#     end=dt.date(end)\n",
    "#     session = Session(engine)\n",
    "#     sel=[func.min(Measurement.tobs),func.max(Measurement.tobs),func.avg(Measurement.tobs)]\n",
    "#     query_para=session.query(*sel).\\\n",
    "#                 filter(Station.station==Measurement.station).\\\n",
    "#                 filter(Station.station==most_active_unzip[0]).\\\n",
    "#                 filter(Measurement.date <=end).\\\n",
    "#                 filter(Measurement.date >=start).all()\n",
    "#     session.close()\n",
    "#     return jsonify(query_para)\n",
    "\n",
    "if __name__==\"__main__\":\n",
    "    app.run(debug=True)"
   ]
  },
  {
   "cell_type": "code",
   "execution_count": null,
   "metadata": {},
   "outputs": [],
   "source": []
  }
 ],
 "metadata": {
  "kernelspec": {
   "display_name": "Python 3",
   "language": "python",
   "name": "python3"
  },
  "language_info": {
   "codemirror_mode": {
    "name": "ipython",
    "version": 3
   },
   "file_extension": ".py",
   "mimetype": "text/x-python",
   "name": "python",
   "nbconvert_exporter": "python",
   "pygments_lexer": "ipython3",
   "version": "3.7.4"
  }
 },
 "nbformat": 4,
 "nbformat_minor": 2
}
