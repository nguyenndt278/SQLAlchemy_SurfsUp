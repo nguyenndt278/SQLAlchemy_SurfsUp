{
 "cells": [
  {
   "cell_type": "code",
   "execution_count": 86,
   "metadata": {},
   "outputs": [],
   "source": [
    "import sqlalchemy\n",
    "from sqlalchemy import create_engine, inspect, func\n",
    "from sqlalchemy.orm import Session\n",
    "from sqlalchemy.ext.automap import automap_base\n",
    "Base= automap_base()\n",
    "import pandas as pd\n",
    "import datetime as dt\n",
    "from dateutil.relativedelta import relativedelta\n",
    "import numpy as np\n",
    "import matplotlib.pyplot as plt\n",
    "from matplotlib import style\n",
    "from scipy import stats"
   ]
  },
  {
   "cell_type": "code",
   "execution_count": 87,
   "metadata": {},
   "outputs": [],
   "source": [
    "database_path='\\hawaii.sqlite'\n",
    "engine=create_engine(f'sqlite:///{database_path}')\n",
    "conn= engine.connect()\n",
    "Base.prepare(engine, reflect= True)\n",
    "Base.classes.keys()\n",
    "Measurement= Base.classes.measurement\n",
    "Station= Base.classes.station\n",
    "session=Session(engine)"
   ]
  },
  {
   "cell_type": "code",
   "execution_count": 88,
   "metadata": {},
   "outputs": [
    {
     "name": "stdout",
     "output_type": "stream",
     "text": [
      "Average temperature in June is [74.94411764705882] and in December is [71.04152933421226]\n"
     ]
    }
   ],
   "source": [
    "# Temperature Analysis I\n",
    "## Average temperature in June and Dec at all stations across all available years in the dataset\n",
    "june='06'\n",
    "dec='12'\n",
    "average_june=session.query(func.avg(Measurement.tobs)).\\\n",
    "            filter(func.strftime(\"%m\", Measurement.date) == june).all()\n",
    "average_dec=session.query(func.avg(Measurement.tobs)).\\\n",
    "            filter(func.strftime(\"%m\", Measurement.date) == dec).all()\n",
    "print(f'Average temperature in June is {list(np.ravel(average_june))} and in December is {list(np.ravel(average_dec))}')"
   ]
  },
  {
   "cell_type": "code",
   "execution_count": 107,
   "metadata": {},
   "outputs": [
    {
     "name": "stdout",
     "output_type": "stream",
     "text": [
      "t-statistics is 31.355036920962423.\n",
      "p-value is 4.193529835915756e-187.\n",
      "The difference in sample means is significant.\n"
     ]
    }
   ],
   "source": [
    "## Use the paired t-test to determine whether the difference in the means, if any, is statistically significant\n",
    "temp_june=session.query(Measurement.date,Measurement.tobs).\\\n",
    "            filter(func.strftime(\"%m\", Measurement.date) == june).all()\n",
    "temp_dec=session.query(Measurement.date, Measurement.tobs).\\\n",
    "            filter(func.strftime(\"%m\", Measurement.date) == dec).all()\n",
    "df_temp_june=pd.DataFrame(temp_june)\n",
    "df_temp_june['tobs']\n",
    "df_temp_dec=pd.DataFrame(temp_dec)\n",
    "df_temp_dec['tobs']\n",
    "(t_stat, p) = stats.ttest_ind(df_temp_june['tobs'], df_temp_dec['tobs'], equal_var=False)\n",
    "print(\"t-statistics is {}.\".format(t_stat))\n",
    "print(\"p-value is {}.\".format(p))\n",
    "if p < 0.05:\n",
    "    print(\"The difference in sample means is significant.\")\n",
    "else:\n",
    "    print(\"The difference in sample means is not significant.\")"
   ]
  },
  {
   "cell_type": "code",
   "execution_count": 74,
   "metadata": {},
   "outputs": [
    {
     "data": {
      "text/plain": [
       "[64.0, 72.02777777777777, 78.0]"
      ]
     },
     "execution_count": 74,
     "metadata": {},
     "output_type": "execute_result"
    }
   ],
   "source": [
    "# Temperature Analysis II\n",
    "## Calculate min, avg, max temps for the trip from 02/28/2017 to 03/05/2017\n",
    "def calc_temps(start_date, end_date):\n",
    "    return session.query(func.min(Measurement.tobs), func.avg(Measurement.tobs), func.max(Measurement.tobs)).\\\n",
    "        filter(Measurement.date >= start_date).filter(Measurement.date <= end_date).all()\n",
    "my_start='2017-02-28'\n",
    "my_end='2017-03-05'\n",
    "my_trip_data = list(np.ravel(calc_temps(my_start, my_end)))\n",
    "my_trip_data"
   ]
  },
  {
   "cell_type": "code",
   "execution_count": 75,
   "metadata": {},
   "outputs": [
    {
     "data": {
      "image/png": "[encoded data removed]",
      "text/plain": [
       "<Figure size 216x504 with 1 Axes>"
      ]
     },
     "metadata": {},
     "output_type": "display_data"
    }
   ],
   "source": [
    "## Plot min, avg, max temps for the trip from 02/28/2017 to 03/05/2017\n",
    "plt.figure(0)\n",
    "style.use('seaborn-whitegrid')\n",
    "ptp=my_trip_data[2]-my_trip_data[0]\n",
    "y=[my_trip_data[1]]\n",
    "x_axis = np.arange(len(y))\n",
    "plt.bar(x_axis, y, color='coral', alpha=0.50,yerr=ptp)\n",
    "plt.ylim(0,100)\n",
    "plt.ylabel(\"Temp F\")\n",
    "plt.title(\"My Trip Avg\")\n",
    "plt.xticks([], [])\n",
    "plt.rcParams[\"figure.figsize\"] = [3, 7]\n",
    "plt.savefig('myTripTemp.png')\n",
    "plt.show()"
   ]
  },
  {
   "cell_type": "code",
   "execution_count": 76,
   "metadata": {},
   "outputs": [
    {
     "data": {
      "text/plain": [
       "[('USC00519281',\n",
       "  'WAIHEE 837.5, HI US',\n",
       "  21.45167,\n",
       "  -157.84888999999998,\n",
       "  32.9,\n",
       "  4.720000000000001),\n",
       " ('USC00513117', 'KANEOHE 838.1, HI US', 21.4234, -157.8015, 14.6, 4.45),\n",
       " ('USC00516128',\n",
       "  'MANOA LYON ARBO 785.2, HI US',\n",
       "  21.3331,\n",
       "  -157.8025,\n",
       "  152.4,\n",
       "  4.07),\n",
       " ('USC00517948', 'PEARL CITY, HI US', 21.3934, -157.9751, 11.9, 2.98),\n",
       " ('USC00519397',\n",
       "  'WAIKIKI 717.2, HI US',\n",
       "  21.2716,\n",
       "  -157.8168,\n",
       "  3.0,\n",
       "  2.7399999999999998),\n",
       " ('USC00519523',\n",
       "  'WAIMANALO EXPERIMENTAL FARM, HI US',\n",
       "  21.33556,\n",
       "  -157.71139,\n",
       "  19.5,\n",
       "  2.32),\n",
       " ('USC00514830',\n",
       "  'KUALOA RANCH HEADQUARTERS 886.9, HI US',\n",
       "  21.5213,\n",
       "  -157.8374,\n",
       "  7.0,\n",
       "  1.1600000000000001)]"
      ]
     },
     "execution_count": 76,
     "metadata": {},
     "output_type": "execute_result"
    }
   ],
   "source": [
    "# Daily Rainfall Average\n",
    "station_rain=[Station.station, Station.name, Station.latitude, Station.longitude, Station.elevation, func.sum(Measurement.prcp)]\n",
    "station_rainfall= session.query(*station_rain).\\\n",
    "    filter(Station.station==Measurement.station).\\\n",
    "    filter(Measurement.date>=my_start).\\\n",
    "    filter(Measurement.date<=my_end).\\\n",
    "    group_by(Measurement.station).\\\n",
    "    order_by(func.sum(Measurement.prcp).desc()).all()\n",
    "station_rainfall"
   ]
  },
  {
   "cell_type": "code",
   "execution_count": 77,
   "metadata": {},
   "outputs": [
    {
     "data": {
      "text/plain": [
       "[[65.0, 70.65517241379311, 80.0],\n",
       " [67.0, 71.73333333333333, 79.0],\n",
       " [64.0, 70.0327868852459, 76.0],\n",
       " [61.0, 70.36666666666666, 78.0],\n",
       " [60.0, 70.06896551724138, 78.0],\n",
       " [57.0, 69.27272727272727, 77.0],\n",
       " [60.0, 67.89090909090909, 76.0]]"
      ]
     },
     "execution_count": 77,
     "metadata": {},
     "output_type": "execute_result"
    }
   ],
   "source": [
    "def daily_normals(date):\n",
    "    sel = [func.min(Measurement.tobs), func.avg(Measurement.tobs), func.max(Measurement.tobs)]\n",
    "    return session.query(*sel).filter(func.strftime(\"%m-%d\", Measurement.date) == date).all()\n",
    "date_list=[\"02-28\",\"02-29\",\"03-01\",\"03-02\",\"03-03\",\"03-04\",\"03-05\"]\n",
    "normal_list=[]\n",
    "for date in date_list:\n",
    "    x=daily_normals(date)\n",
    "    x_unzip=list(np.ravel(x))\n",
    "    normal_list.append(x_unzip)\n",
    "normal_list\n"
   ]
  },
  {
   "cell_type": "code",
   "execution_count": 80,
   "metadata": {},
   "outputs": [
    {
     "data": {
      "text/html": [
       "<div>\n",
       "<style scoped>\n",
       "    .dataframe tbody tr th:only-of-type {\n",
       "        vertical-align: middle;\n",
       "    }\n",
       "\n",
       "    .dataframe tbody tr th {\n",
       "        vertical-align: top;\n",
       "    }\n",
       "\n",
       "    .dataframe thead th {\n",
       "        text-align: right;\n",
       "    }\n",
       "</style>\n",
       "<table border=\"1\" class=\"dataframe\">\n",
       "  <thead>\n",
       "    <tr style=\"text-align: right;\">\n",
       "      <th></th>\n",
       "      <th>tmin</th>\n",
       "      <th>tavg</th>\n",
       "      <th>tmax</th>\n",
       "    </tr>\n",
       "    <tr>\n",
       "      <th>date</th>\n",
       "      <th></th>\n",
       "      <th></th>\n",
       "      <th></th>\n",
       "    </tr>\n",
       "  </thead>\n",
       "  <tbody>\n",
       "    <tr>\n",
       "      <td>2017-02-28</td>\n",
       "      <td>65.0</td>\n",
       "      <td>70.655172</td>\n",
       "      <td>80.0</td>\n",
       "    </tr>\n",
       "    <tr>\n",
       "      <td>2017-03-01</td>\n",
       "      <td>67.0</td>\n",
       "      <td>71.733333</td>\n",
       "      <td>79.0</td>\n",
       "    </tr>\n",
       "    <tr>\n",
       "      <td>2017-03-02</td>\n",
       "      <td>64.0</td>\n",
       "      <td>70.032787</td>\n",
       "      <td>76.0</td>\n",
       "    </tr>\n",
       "    <tr>\n",
       "      <td>2017-03-03</td>\n",
       "      <td>61.0</td>\n",
       "      <td>70.366667</td>\n",
       "      <td>78.0</td>\n",
       "    </tr>\n",
       "    <tr>\n",
       "      <td>2017-03-04</td>\n",
       "      <td>60.0</td>\n",
       "      <td>70.068966</td>\n",
       "      <td>78.0</td>\n",
       "    </tr>\n",
       "    <tr>\n",
       "      <td>2017-03-05</td>\n",
       "      <td>57.0</td>\n",
       "      <td>69.272727</td>\n",
       "      <td>77.0</td>\n",
       "    </tr>\n",
       "    <tr>\n",
       "      <td>2017-03-06</td>\n",
       "      <td>60.0</td>\n",
       "      <td>67.890909</td>\n",
       "      <td>76.0</td>\n",
       "    </tr>\n",
       "  </tbody>\n",
       "</table>\n",
       "</div>"
      ],
      "text/plain": [
       "            tmin       tavg  tmax\n",
       "date                             \n",
       "2017-02-28  65.0  70.655172  80.0\n",
       "2017-03-01  67.0  71.733333  79.0\n",
       "2017-03-02  64.0  70.032787  76.0\n",
       "2017-03-03  61.0  70.366667  78.0\n",
       "2017-03-04  60.0  70.068966  78.0\n",
       "2017-03-05  57.0  69.272727  77.0\n",
       "2017-03-06  60.0  67.890909  76.0"
      ]
     },
     "execution_count": 80,
     "metadata": {},
     "output_type": "execute_result"
    }
   ],
   "source": [
    "df_normal=pd.DataFrame(normal_list, columns=['tmin', 'tavg','tmax'])\n",
    "df_normal['date'] = pd.date_range(start='2/28/2017', periods=len(df_normal), freq='D')\n",
    "df_normal_final=df_normal.set_index('date')\n",
    "df_normal_final"
   ]
  },
  {
   "cell_type": "code",
   "execution_count": 85,
   "metadata": {},
   "outputs": [
    {
     "data": {
      "text/plain": [
       "<Figure size 504x360 with 0 Axes>"
      ]
     },
     "metadata": {},
     "output_type": "display_data"
    },
    {
     "data": {
      "image/png": "[encoded data removed]",
      "text/plain": [
       "<Figure size 504x360 with 1 Axes>"
      ]
     },
     "metadata": {},
     "output_type": "display_data"
    }
   ],
   "source": [
    "# Plot daily normal for my trip from 02/28/2017 to 03/05/2017\n",
    "plt.figure(1)\n",
    "style.use('fivethirtyeight')\n",
    "df_normal_final.plot.area(stacked=False, alpha=0.18)\n",
    "plt.xlabel('date')\n",
    "plt.grid()\n",
    "plt.tight_layout()\n",
    "plt.rcParams[\"figure.figsize\"] = [7, 5]\n",
    "plt.savefig('myTripDailyNormal.png')\n",
    "plt.show()"
   ]
  },
  {
   "cell_type": "markdown",
   "metadata": {},
   "source": []
  },
  {
   "cell_type": "code",
   "execution_count": null,
   "metadata": {},
   "outputs": [],
   "source": []
  }
 ],
 "metadata": {
  "kernelspec": {
   "display_name": "Python 3",
   "language": "python",
   "name": "python3"
  },
  "language_info": {
   "codemirror_mode": {
    "name": "ipython",
    "version": 3
   },
   "file_extension": ".py",
   "mimetype": "text/x-python",
   "name": "python",
   "nbconvert_exporter": "python",
   "pygments_lexer": "ipython3",
   "version": "3.7.4"
  }
 },
 "nbformat": 4,
 "nbformat_minor": 2
}
